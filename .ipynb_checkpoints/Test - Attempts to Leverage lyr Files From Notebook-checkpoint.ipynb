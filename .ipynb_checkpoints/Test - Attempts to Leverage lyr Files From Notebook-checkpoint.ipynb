{
 "cells": [
  {
   "cell_type": "markdown",
   "metadata": {},
   "source": [
    "# <span style=\"color:purple\">Test: </span>"
   ]
  },
  {
   "cell_type": "markdown",
   "metadata": {},
   "source": [
    "# Visualizing ArcPy Outputs Using .lyr Files"
   ]
  },
  {
   "cell_type": "markdown",
   "metadata": {},
   "source": [
    "### >>>> DRAFT <<<<"
   ]
  },
  {
   "cell_type": "markdown",
   "metadata": {},
   "source": [
    "Date: 10-15-2018"
   ]
  },
  {
   "cell_type": "markdown",
   "metadata": {},
   "source": [
    "Summary: This notebook contains tests and attempted workarounds to leverage .lyr files when working from a jupyter notebook"
   ]
  },
  {
   "cell_type": "markdown",
   "metadata": {},
   "source": [
    "# Setup"
   ]
  },
  {
   "cell_type": "markdown",
   "metadata": {},
   "source": [
    "Import packages (The arcgis.features import is recommended from the API documentation for working with Spatially-enabled Dataframes)"
   ]
  },
  {
   "cell_type": "code",
   "execution_count": 1,
   "metadata": {},
   "outputs": [],
   "source": [
    "import arcpy\n",
    "import arcgis\n",
    "import pandas as pd\n",
    "from arcgis.features import GeoAccessor, GeoSeriesAccessor\n",
    "import os"
   ]
  },
  {
   "cell_type": "markdown",
   "metadata": {},
   "source": [
    "Set reference to sample data"
   ]
  },
  {
   "cell_type": "code",
   "execution_count": 2,
   "metadata": {},
   "outputs": [],
   "source": [
    "# Path to File Geodatabase containing available data\n",
    "file_geodatabase = \"data//retail.gdb\"\n",
    "\n",
    "# Path to retail business data\n",
    "businesses_fc = file_geodatabase + \"//us_businesses_pittsburgh\"\n",
    "restaurants_fc = file_geodatabase + \"//restaurants_pittsburgh\""
   ]
  },
  {
   "cell_type": "markdown",
   "metadata": {},
   "source": [
    "Connect to a Web GIS"
   ]
  },
  {
   "cell_type": "code",
   "execution_count": 3,
   "metadata": {},
   "outputs": [
    {
     "name": "stdout",
     "output_type": "stream",
     "text": [
      "Enter password: ········\n"
     ]
    }
   ],
   "source": [
    "# Connect to ArcGIS Online\n",
    "gis = arcgis.gis.GIS(\"https://esrifederal.maps.arcgis.com\", username=\"Anieto_esrifederal\")"
   ]
  },
  {
   "cell_type": "markdown",
   "metadata": {},
   "source": [
    "# Using Symbology Layers (.lyr files) with Data on a Hosted Notebook"
   ]
  },
  {
   "cell_type": "markdown",
   "metadata": {},
   "source": [
    "So far, the only known way to interact with symbology layer files and data produced on a notebook is by leveraging an ArcGIS Pro (or ArcMap) installation on the system executing the notebook cells and publishing from ArcPy to a WebGIS that can then use the symbolized outputs. \n",
    "\n",
    "This is a painful workaround, and there may be other ways to work around this (but none that I've found yet). \n",
    "\n",
    "The way this process works is as follows:\n",
    "\n",
    "1. Run the needed tool in the notebook cell.\n",
    "2. Use an ArcGIS Pro Project or ArcMap MXD to load the output data from the notebook cell. \n",
    "3. Apply the .lyr file using ArcPy.\n",
    "4. Publish the layer as a service to a Web GIS.\n",
    "5. Retrieve the published item in the notebook.\n",
    "\n",
    "The following is such an example:"
   ]
  },
  {
   "cell_type": "markdown",
   "metadata": {},
   "source": [
    "## 1. Run the needed tool in the notebook cell."
   ]
  },
  {
   "cell_type": "code",
   "execution_count": 20,
   "metadata": {},
   "outputs": [],
   "source": [
    "hotspots_result_object = arcpy.stats.OptimizedHotSpotAnalysis(restaurants_fc, \n",
    "                                                              \"{0}//{1}_HotSpots\".format(file_geodatabase, \"Restaurants\"),  \n",
    "                                                              \"SALESVOL\")"
   ]
  },
  {
   "cell_type": "code",
   "execution_count": 21,
   "metadata": {},
   "outputs": [
    {
     "name": "stdout",
     "output_type": "stream",
     "text": [
      "Start Time: Monday, October 15, 2018 8:07:08 PM\n",
      "Running script OptimizedHotSpotAnalysis...\n",
      "\n",
      "************************** Initial Data Assessment ***************************\n",
      "Making sure there are enough weighted features for analysis....\n",
      "    - There are 5026 valid input features.\n",
      "\n",
      "Evaluating the Analysis Field values....\n",
      "    - SALESVOL Properties:\n",
      "        Min:           0.0000\n",
      "        Max:       14035.0000\n",
      "        Mean:        802.6454\n",
      "        Std. Dev.:  1130.5548\n",
      "Looking for locational outliers....\n",
      "    - There were 88 outlier locations; these will not be used to compute the optimal fixed distance band.\n",
      "\n",
      "***************************** Scale of Analysis ******************************\n",
      "Looking for an optimal scale of analysis by assessing the intensity of clustering at increasing distances....\n",
      "    - The optimal fixed distance band is based on peak clustering found at 5844.2536 Meters\n",
      "\n",
      "***************************** Hot Spot Analysis ******************************\n",
      "Finding statistically significant clusters of high and low SALESVOL values....\n",
      "    - There are 1282 output features statistically significant based on an FDR correction for multiple testing and spatial dependence.\n",
      "\n",
      "    - 5.4% of features had less than 8 neighbors based on the distance band of 5844.2536 Meters\n",
      "*********************************** Output ***********************************\n",
      "Creating output feature class: data\\\\retail.gdb\\Restaurants_HotSpots\n",
      "    - Red output features represent hot spots where high SALESVOL values cluster.\n",
      "    - Blue output features represent cold spots where low SALESVOL values cluster.\n",
      "\n",
      "\n",
      "\n",
      "Completed script Optimized Hot Spot Analysis...\n",
      "Succeeded at Monday, October 15, 2018 8:07:22 PM (Elapsed Time: 13.39 seconds)\n"
     ]
    }
   ],
   "source": [
    "for i in range(0, hotspots_result_object.messageCount):\n",
    "    print(hotspots_result_object.getMessage(i))"
   ]
  },
  {
   "cell_type": "code",
   "execution_count": 22,
   "metadata": {},
   "outputs": [
    {
     "data": {
      "text/plain": [
       "'data\\\\\\\\retail.gdb\\\\Restaurants_HotSpots'"
      ]
     },
     "execution_count": 22,
     "metadata": {},
     "output_type": "execute_result"
    }
   ],
   "source": [
    "hotspots_result_object.getOutput(0)"
   ]
  },
  {
   "cell_type": "markdown",
   "metadata": {},
   "source": [
    "## 2. Use an ArcGIS Pro Project or ArcMap MXD to load the output data from the notebook cell. "
   ]
  },
  {
   "cell_type": "markdown",
   "metadata": {},
   "source": [
    "We need to use an ArcGIS Pro project (or ArcMap MXD). Let's set the path to a project here."
   ]
  },
  {
   "cell_type": "code",
   "execution_count": 23,
   "metadata": {},
   "outputs": [],
   "source": [
    "pro_project_path = r\"data/pro_project_template/ProProjectTemplate/ProProjectTemplate.aprx\""
   ]
  },
  {
   "cell_type": "markdown",
   "metadata": {},
   "source": [
    "This symbology layer was previously saved using ArcGIS Pro..."
   ]
  },
  {
   "cell_type": "markdown",
   "metadata": {},
   "source": [
    "![layer](img/save_lyr.png \"save layer\")"
   ]
  },
  {
   "cell_type": "code",
   "execution_count": 24,
   "metadata": {},
   "outputs": [
    {
     "data": {
      "text/plain": [
       "<arcpy._mp.Layer at 0x23ca44ca3c8>"
      ]
     },
     "execution_count": 24,
     "metadata": {},
     "output_type": "execute_result"
    }
   ],
   "source": [
    "lyrfile = arcpy.mp.LayerFile(r\"symbology/optimizedhotspots_point_symbology.lyrx\")\n",
    "hotspots_symbology_lyr = lyrfile.listLayers()[0]\n",
    "hotspots_symbology_lyr"
   ]
  },
  {
   "cell_type": "markdown",
   "metadata": {},
   "source": [
    "Next, we need to use ArcPy's project > map > layer structure to set variables and add our optimized hot spots output as a layer"
   ]
  },
  {
   "cell_type": "code",
   "execution_count": 25,
   "metadata": {},
   "outputs": [],
   "source": [
    "aprx  = arcpy.mp.ArcGISProject(pro_project_path)\n",
    "map_obj = aprx.listMaps()[0]"
   ]
  },
  {
   "cell_type": "code",
   "execution_count": 26,
   "metadata": {},
   "outputs": [
    {
     "name": "stdout",
     "output_type": "stream",
     "text": [
      "World Topographic Map\n",
      "World Hillshade\n"
     ]
    }
   ],
   "source": [
    "for layer in map_obj.listLayers():\n",
    "    print(layer.name)"
   ]
  },
  {
   "cell_type": "markdown",
   "metadata": {},
   "source": [
    "Let's add the layer to the map"
   ]
  },
  {
   "cell_type": "code",
   "execution_count": 27,
   "metadata": {},
   "outputs": [
    {
     "data": {
      "text/plain": [
       "[<arcpy._mp.Layer at 0x23cb1f4a358>]"
      ]
     },
     "execution_count": 27,
     "metadata": {},
     "output_type": "execute_result"
    }
   ],
   "source": [
    "map_obj.addLayer(hotspots_symbology_lyr)"
   ]
  },
  {
   "cell_type": "code",
   "execution_count": 28,
   "metadata": {},
   "outputs": [
    {
     "name": "stdout",
     "output_type": "stream",
     "text": [
      "OHS_restaurants\n",
      "World Topographic Map\n",
      "World Hillshade\n"
     ]
    }
   ],
   "source": [
    "for layer in map_obj.listLayers():\n",
    "    print(layer.name)"
   ]
  },
  {
   "cell_type": "code",
   "execution_count": 29,
   "metadata": {},
   "outputs": [
    {
     "data": {
      "text/plain": [
       "<arcpy._mp.Layer at 0x23cb1f4abe0>"
      ]
     },
     "execution_count": 29,
     "metadata": {},
     "output_type": "execute_result"
    }
   ],
   "source": [
    "hotspots_map_layer = map_obj.listLayers(\"OHS_restaurants\")[0]\n",
    "hotspots_map_layer"
   ]
  },
  {
   "cell_type": "code",
   "execution_count": 30,
   "metadata": {},
   "outputs": [],
   "source": [
    "connprop = hotspots_map_layer.connectionProperties"
   ]
  },
  {
   "cell_type": "code",
   "execution_count": 34,
   "metadata": {},
   "outputs": [],
   "source": [
    "new_conn_properties = {'connection_info': {'database': file_geodatabase},\n",
    "                       'dataset': 'Restaurants_HotSpots',\n",
    "                       'workspace_factory': 'File Geodatabase'}"
   ]
  },
  {
   "cell_type": "code",
   "execution_count": 35,
   "metadata": {},
   "outputs": [],
   "source": [
    "hotspots_map_layer.updateConnectionProperties(hotspots_map_layer.connectionProperties, new_conn_properties)"
   ]
  },
  {
   "cell_type": "code",
   "execution_count": 36,
   "metadata": {},
   "outputs": [
    {
     "data": {
      "text/plain": [
       "{'connection_info': {'database': 'data//retail.gdb'},\n",
       " 'dataset': 'Restaurants_HotSpots',\n",
       " 'workspace_factory': 'File Geodatabase'}"
      ]
     },
     "execution_count": 36,
     "metadata": {},
     "output_type": "execute_result"
    }
   ],
   "source": [
    "hotspots_map_layer.connectionProperties"
   ]
  },
  {
   "cell_type": "markdown",
   "metadata": {},
   "source": [
    "## 3. Publish the layer as a service to a Web GIS."
   ]
  },
  {
   "cell_type": "markdown",
   "metadata": {},
   "source": [
    "Create a feature sharing draft object"
   ]
  },
  {
   "cell_type": "markdown",
   "metadata": {},
   "source": [
    "References:\n",
    "- http://pro.arcgis.com/en/pro-app/arcpy/sharing/featuresharingdraft-class.htm)\n",
    "- http://pro.arcgis.com/en/pro-app/tool-reference/server/stage-service.htm"
   ]
  },
  {
   "cell_type": "code",
   "execution_count": 37,
   "metadata": {},
   "outputs": [],
   "source": [
    "import os\n",
    "\n",
    "# Set output file names\n",
    "outdir = r\"data\\publishing\"\n",
    "service = \"OHS_restaurants\"\n",
    "sddraft_filename = service + \".sddraft\"\n",
    "sddraft_output_filename = os.path.join(outdir, sddraft_filename)"
   ]
  },
  {
   "cell_type": "markdown",
   "metadata": {},
   "source": [
    "Create SharingDraft and set service properties"
   ]
  },
  {
   "cell_type": "code",
   "execution_count": 38,
   "metadata": {},
   "outputs": [],
   "source": [
    "# Create SharingDraft and set service properties\n",
    "feature_sharingdraft_obj = map_obj.getWebLayerSharingDraft(server_type='MY_HOSTED_SERVICES', \n",
    "                                                           service_type='FEATURE', \n",
    "                                                           service_name=service)\n",
    "\n",
    "feature_sharingdraft_obj.description = \"Optimized Hot Spots results for restaurants in Pittsburgh, PA\"\n",
    "feature_sharingdraft_obj.tags = \"Optimized Hot Spots\"\n",
    "feature_sharingdraft_obj.summary = \"My Summary\""
   ]
  },
  {
   "cell_type": "markdown",
   "metadata": {},
   "source": [
    "Create Service Definition Draft File"
   ]
  },
  {
   "cell_type": "code",
   "execution_count": 39,
   "metadata": {},
   "outputs": [],
   "source": [
    "feature_sharingdraft_obj.exportToSDDraft(sddraft_output_filename)"
   ]
  },
  {
   "cell_type": "markdown",
   "metadata": {},
   "source": [
    "Stage Service"
   ]
  },
  {
   "cell_type": "code",
   "execution_count": null,
   "metadata": {},
   "outputs": [],
   "source": [
    "sd_filename = service + \".sd\"\n",
    "sd_output_filename = os.path.join(outdir, sd_filename)\n",
    "arcpy.StageService_server(sddraft_output_filename, sd_output_filename)"
   ]
  },
  {
   "cell_type": "code",
   "execution_count": null,
   "metadata": {},
   "outputs": [],
   "source": [
    "# Share to portal\n",
    "print(\"Uploading Service Definition...\")\n",
    "arcpy.UploadServiceDefinition_server(sd_output_filename, \"My Hosted Services\")"
   ]
  },
  {
   "cell_type": "markdown",
   "metadata": {},
   "source": [
    "## 4. Retrieve the published item in the notebook."
   ]
  },
  {
   "cell_type": "code",
   "execution_count": 48,
   "metadata": {},
   "outputs": [
    {
     "data": {
      "application/vnd.jupyter.widget-view+json": {
       "model_id": "4460903cd0c14d0fa81a5922ea258032",
       "version_major": 2,
       "version_minor": 0
      },
      "text/plain": [
       "MapView(layout=Layout(height='400px', width='100%'))"
      ]
     },
     "metadata": {},
     "output_type": "display_data"
    }
   ],
   "source": [
    "hotspots_map = gis.map(\"Pittsburgh\")\n",
    "hotspots_map"
   ]
  },
  {
   "cell_type": "code",
   "execution_count": 49,
   "metadata": {},
   "outputs": [
    {
     "data": {
      "text/html": [
       "<div class=\"item_container\" style=\"height: auto; overflow: hidden; border: 1px solid #cfcfcf; border-radius: 2px; background: #f6fafa; line-height: 1.21429em; padding: 10px;\">\n",
       "                    <div class=\"item_left\" style=\"width: 210px; float: left;\">\n",
       "                       <a href='https://esrifederal.maps.arcgis.com/home/item.html?id=69dc1f8ad8d3492eb64645d4ce4dbbbd' target='_blank'>\n",
       "                        <img src='data:image/png;base64,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' width='200' height='133' class=\"itemThumbnail\">\n",
       "                       </a>\n",
       "                    </div>\n",
       "\n",
       "                    <div class=\"item_right\"     style=\"float: none; width: auto; overflow: hidden;\">\n",
       "                        <a href='https://esrifederal.maps.arcgis.com/home/item.html?id=69dc1f8ad8d3492eb64645d4ce4dbbbd' target='_blank'><b>OHS_restaurants</b>\n",
       "                        </a>\n",
       "                        <br/>Infogroup Business Locations collects the locations of over 13 million private and public companies in United States. It includes address information,...<img src='https://esrifederal.maps.arcgis.com/home/js/jsapi/esri/css/images/item_type_icons/featureshosted16.png' style=\"vertical-align:middle;\">Feature Layer Collection by albe9057@esri.com_esrifederal\n",
       "                        <br/>Last Modified: October 15, 2018\n",
       "                        <br/>0 comments, 0 views\n",
       "                    </div>\n",
       "                </div>\n",
       "                "
      ],
      "text/plain": [
       "<Item title:\"OHS_restaurants\" type:Feature Layer Collection owner:albe9057@esri.com_esrifederal>"
      ]
     },
     "execution_count": 49,
     "metadata": {},
     "output_type": "execute_result"
    }
   ],
   "source": [
    "hotspots_published_item = gis.content.search(\"OHS_restaurants\", item_type=\"Feature Service\")[1]\n",
    "hotspots_published_item"
   ]
  },
  {
   "cell_type": "code",
   "execution_count": 50,
   "metadata": {},
   "outputs": [],
   "source": [
    "hotspots_map.add_layer(hotspots_published_item)"
   ]
  },
  {
   "cell_type": "markdown",
   "metadata": {},
   "source": [
    "## Appendix: Renderer Testing (In Progress)"
   ]
  },
  {
   "cell_type": "code",
   "execution_count": 53,
   "metadata": {},
   "outputs": [],
   "source": [
    "renderer = hotspots_map_layer.symbology.renderer"
   ]
  },
  {
   "cell_type": "code",
   "execution_count": 54,
   "metadata": {},
   "outputs": [
    {
     "data": {
      "text/plain": [
       "<graduated_colors_renderer object>"
      ]
     },
     "execution_count": 54,
     "metadata": {},
     "output_type": "execute_result"
    }
   ],
   "source": [
    "renderer"
   ]
  },
  {
   "cell_type": "code",
   "execution_count": 55,
   "metadata": {},
   "outputs": [
    {
     "data": {
      "application/vnd.jupyter.widget-view+json": {
       "model_id": "2750b6e934ed4a0a81f979a7442a88b6",
       "version_major": 2,
       "version_minor": 0
      },
      "text/plain": [
       "MapView(layout=Layout(height='400px', width='100%'))"
      ]
     },
     "metadata": {},
     "output_type": "display_data"
    }
   ],
   "source": [
    "hot_spots_map = gis.map(\"Pittsburgh\")\n",
    "hot_spots_map"
   ]
  },
  {
   "cell_type": "code",
   "execution_count": 58,
   "metadata": {},
   "outputs": [
    {
     "data": {
      "text/html": [
       "<div class=\"item_container\" style=\"height: auto; overflow: hidden; border: 1px solid #cfcfcf; border-radius: 2px; background: #f6fafa; line-height: 1.21429em; padding: 10px;\">\n",
       "                    <div class=\"item_left\" style=\"width: 210px; float: left;\">\n",
       "                       <a href='https://esrifederal.maps.arcgis.com/home/item.html?id=9bd86c93dc6444508a044ece73012165' target='_blank'>\n",
       "                        <img src='data:image/png;base64,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' width='200' height='133' class=\"itemThumbnail\">\n",
       "                       </a>\n",
       "                    </div>\n",
       "\n",
       "                    <div class=\"item_right\"     style=\"float: none; width: auto; overflow: hidden;\">\n",
       "                        <a href='https://esrifederal.maps.arcgis.com/home/item.html?id=9bd86c93dc6444508a044ece73012165' target='_blank'><b>OHS_restaurants_notsymbolized</b>\n",
       "                        </a>\n",
       "                        <br/>Infogroup Business Locations collects the locations of over 13 million private and public companies in United States. It includes address information,...<img src='https://esrifederal.maps.arcgis.com/home/js/jsapi/esri/css/images/item_type_icons/featureshosted16.png' style=\"vertical-align:middle;\">Feature Layer Collection by albe9057@esri.com_esrifederal\n",
       "                        <br/>Last Modified: October 15, 2018\n",
       "                        <br/>0 comments, 0 views\n",
       "                    </div>\n",
       "                </div>\n",
       "                "
      ],
      "text/plain": [
       "<Item title:\"OHS_restaurants_notsymbolized\" type:Feature Layer Collection owner:albe9057@esri.com_esrifederal>"
      ]
     },
     "execution_count": 58,
     "metadata": {},
     "output_type": "execute_result"
    }
   ],
   "source": [
    "hot_spots_item = gis.content.search(\"OHS_restaurants_notsymbolized\", item_type=\"Feature Service\")[0]\n",
    "hot_spots_item"
   ]
  },
  {
   "cell_type": "code",
   "execution_count": 59,
   "metadata": {},
   "outputs": [],
   "source": [
    "hot_spots_map.add_layer(hot_spots_item)"
   ]
  }
 ],
 "metadata": {
  "kernelspec": {
   "display_name": "Python 3",
   "language": "python",
   "name": "python3"
  },
  "language_info": {
   "codemirror_mode": {
    "name": "ipython",
    "version": 3
   },
   "file_extension": ".py",
   "mimetype": "text/x-python",
   "name": "python",
   "nbconvert_exporter": "python",
   "pygments_lexer": "ipython3",
   "version": "3.6.6"
  }
 },
 "nbformat": 4,
 "nbformat_minor": 2
}
