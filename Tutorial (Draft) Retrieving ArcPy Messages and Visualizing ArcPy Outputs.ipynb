{
 "cells": [
  {
   "cell_type": "markdown",
   "metadata": {},
   "source": [
    "# <span style=\"color:purple\">Tutorial: </span>"
   ]
  },
  {
   "cell_type": "markdown",
   "metadata": {},
   "source": [
    "# Retrieving ArcPy Messages and Visualizing ArcPy Outputs"
   ]
  },
  {
   "cell_type": "markdown",
   "metadata": {},
   "source": [
    "### >>>> DRAFT <<<<"
   ]
  },
  {
   "cell_type": "markdown",
   "metadata": {},
   "source": [
    "Date: 10-15-2018"
   ]
  },
  {
   "cell_type": "markdown",
   "metadata": {},
   "source": [
    "Summary: This notebook provides examples for handling ArcPy process messaging and visualization within Jupyter Notebooks. "
   ]
  },
  {
   "cell_type": "markdown",
   "metadata": {},
   "source": [
    "# Setup"
   ]
  },
  {
   "cell_type": "markdown",
   "metadata": {},
   "source": [
    "Import packages (The arcgis.features import is recommended from the API documentation for working with Spatially-enabled Dataframes)"
   ]
  },
  {
   "cell_type": "code",
   "execution_count": 1,
   "metadata": {},
   "outputs": [],
   "source": [
    "import arcpy\n",
    "import arcgis\n",
    "import pandas as pd\n",
    "from arcgis.features import GeoAccessor, GeoSeriesAccessor\n",
    "import os"
   ]
  },
  {
   "cell_type": "markdown",
   "metadata": {},
   "source": [
    "Set reference to sample data"
   ]
  },
  {
   "cell_type": "code",
   "execution_count": 2,
   "metadata": {},
   "outputs": [],
   "source": [
    "# Path to File Geodatabase containing available data\n",
    "file_geodatabase = \"data//retail.gdb\"\n",
    "\n",
    "# Path to retail business data\n",
    "businesses_fc = file_geodatabase + \"//us_businesses_pittsburgh\"\n",
    "restaurants_fc = file_geodatabase + \"//restaurants_pittsburgh\""
   ]
  },
  {
   "cell_type": "markdown",
   "metadata": {},
   "source": [
    "Connect to a Web GIS"
   ]
  },
  {
   "cell_type": "code",
   "execution_count": 3,
   "metadata": {},
   "outputs": [
    {
     "name": "stdout",
     "output_type": "stream",
     "text": [
      "Enter password: ········\n"
     ]
    }
   ],
   "source": [
    "# Connect to ArcGIS Online\n",
    "gis = arcgis.gis.GIS(\"https://esrifederal.maps.arcgis.com\", username=\"Anieto_esrifederal\")"
   ]
  },
  {
   "cell_type": "markdown",
   "metadata": {},
   "source": [
    "# Handling ArcPy Messaging"
   ]
  },
  {
   "cell_type": "markdown",
   "metadata": {},
   "source": [
    "Use Density-based Clustering and retrieve tool messages"
   ]
  },
  {
   "cell_type": "code",
   "execution_count": 5,
   "metadata": {
    "scrolled": true
   },
   "outputs": [],
   "source": [
    "dbclusters_toolrun = arcpy.stats.DensityBasedClustering(restaurants_fc, \n",
    "                                                        \"{0}//{1}_HDBSCAN\".format(file_geodatabase, \"RestaurantClusters02\"), \n",
    "                                                        \"HDBSCAN\", \n",
    "                                                        5)"
   ]
  },
  {
   "cell_type": "markdown",
   "metadata": {},
   "source": [
    "The run of the tool can be assigned to a variable as a result object, with properties and methods."
   ]
  },
  {
   "cell_type": "code",
   "execution_count": 6,
   "metadata": {},
   "outputs": [
    {
     "data": {
      "text/plain": [
       "<Result 'data\\\\\\\\retail.gdb\\\\RestaurantClusters02_HDBSCAN'>"
      ]
     },
     "execution_count": 6,
     "metadata": {},
     "output_type": "execute_result"
    }
   ],
   "source": [
    "dbclusters_toolrun"
   ]
  },
  {
   "cell_type": "code",
   "execution_count": 7,
   "metadata": {},
   "outputs": [
    {
     "data": {
      "text/plain": [
       "arcpy.arcobjects.arcobjects.Result"
      ]
     },
     "execution_count": 7,
     "metadata": {},
     "output_type": "execute_result"
    }
   ],
   "source": [
    "type(dbclusters_toolrun)"
   ]
  },
  {
   "cell_type": "markdown",
   "metadata": {},
   "source": [
    "Once you have a the result object, you can enter period (\".\") and TAB to explore the properties and methods of the result object."
   ]
  },
  {
   "cell_type": "markdown",
   "metadata": {},
   "source": [
    "![Intellisense](img/intellisense01.png \"Intellisense\")"
   ]
  },
  {
   "cell_type": "markdown",
   "metadata": {},
   "source": [
    "One of these methods is \".getMessages\". We can use this to retrieve ArcPy tool messages and report them "
   ]
  },
  {
   "cell_type": "code",
   "execution_count": 8,
   "metadata": {},
   "outputs": [
    {
     "name": "stdout",
     "output_type": "stream",
     "text": [
      "Start Time: Monday, October 15, 2018 9:08:31 PM\n",
      "Running script DensityBasedClustering...\n",
      "Number of Clusters 353\n",
      "Noise features 1161\n",
      "This tool creates a chart to help explore and interpret the results of the analysis. Charts can be viewed from the List by Charts tab at the top of the Contents pane.\n",
      "Completed script Density-based Clustering...\n",
      "Succeeded at Monday, October 15, 2018 9:08:33 PM (Elapsed Time: 1.72 seconds)\n"
     ]
    }
   ],
   "source": [
    "print(dbclusters_toolrun.getMessages())"
   ]
  },
  {
   "cell_type": "markdown",
   "metadata": {},
   "source": [
    "The best practice to retrieve all tool messaging is the following:"
   ]
  },
  {
   "cell_type": "code",
   "execution_count": 9,
   "metadata": {},
   "outputs": [
    {
     "name": "stdout",
     "output_type": "stream",
     "text": [
      "Start Time: Monday, October 15, 2018 9:08:31 PM\n",
      "Running script DensityBasedClustering...\n",
      "Number of Clusters 353\n",
      "Noise features 1161\n",
      "This tool creates a chart to help explore and interpret the results of the analysis. Charts can be viewed from the List by Charts tab at the top of the Contents pane.\n",
      "Completed script Density-based Clustering...\n",
      "Succeeded at Monday, October 15, 2018 9:08:33 PM (Elapsed Time: 1.72 seconds)\n"
     ]
    }
   ],
   "source": [
    "for i in range(0, dbclusters_toolrun.messageCount):\n",
    "    print(dbclusters_toolrun.getMessage(i))"
   ]
  },
  {
   "cell_type": "markdown",
   "metadata": {},
   "source": [
    "# Handling ArcPy Symbology (Visualization)"
   ]
  },
  {
   "cell_type": "markdown",
   "metadata": {},
   "source": [
    "Let's use the result object to retrieve the output of the Density-based Clusters tool run and visualize in the notebook (as much as possible). "
   ]
  },
  {
   "cell_type": "markdown",
   "metadata": {},
   "source": [
    "The \".getOutput()\" method of the result object helps us use the path of the output data from the tool run. Some tools can produce multiple outputs, so we need to pass an index value to the method as a parameter. Since Density-based Clustering produces one output, we can pass the '0' index value to get the path. "
   ]
  },
  {
   "cell_type": "code",
   "execution_count": 10,
   "metadata": {},
   "outputs": [
    {
     "name": "stdout",
     "output_type": "stream",
     "text": [
      "data\\\\retail.gdb\\RestaurantClusters02_HDBSCAN\n"
     ]
    }
   ],
   "source": [
    "dbclusters_fc_path = dbclusters_toolrun.getOutput(0)\n",
    "print(dbclusters_fc_path)"
   ]
  },
  {
   "cell_type": "markdown",
   "metadata": {},
   "source": [
    "Let's test a couple approaches to visualize this feature class in this jupyter notebook:\n",
    "\n",
    "1. Convert the output feature class to a spatially-enabled dataframe, create a map widget, and plot on the map widget.\n",
    "\n",
    "2. Publish the output to a Web GIS, create a map widget, and plot the published item on the map widget. "
   ]
  },
  {
   "cell_type": "markdown",
   "metadata": {},
   "source": [
    "### 1. Convert the output feature class to a spatially-enabled dataframe, create a map widget, and plot on the map widget"
   ]
  },
  {
   "cell_type": "markdown",
   "metadata": {},
   "source": [
    "Let's convert the output feature class to a spatially-enabled dataframe (i.e. python table with geometry)."
   ]
  },
  {
   "cell_type": "code",
   "execution_count": 11,
   "metadata": {
    "scrolled": true
   },
   "outputs": [
    {
     "data": {
      "text/html": [
       "<div>\n",
       "<style scoped>\n",
       "    .dataframe tbody tr th:only-of-type {\n",
       "        vertical-align: middle;\n",
       "    }\n",
       "\n",
       "    .dataframe tbody tr th {\n",
       "        vertical-align: top;\n",
       "    }\n",
       "\n",
       "    .dataframe thead th {\n",
       "        text-align: right;\n",
       "    }\n",
       "</style>\n",
       "<table border=\"1\" class=\"dataframe\">\n",
       "  <thead>\n",
       "    <tr style=\"text-align: right;\">\n",
       "      <th></th>\n",
       "      <th>OBJECTID</th>\n",
       "      <th>SOURCE_ID</th>\n",
       "      <th>CLUSTER_ID</th>\n",
       "      <th>PROB</th>\n",
       "      <th>OUTLIER</th>\n",
       "      <th>EXEMPLAR</th>\n",
       "      <th>STABILITY</th>\n",
       "      <th>COLOR_ID</th>\n",
       "      <th>SHAPE</th>\n",
       "    </tr>\n",
       "  </thead>\n",
       "  <tbody>\n",
       "    <tr>\n",
       "      <th>0</th>\n",
       "      <td>1</td>\n",
       "      <td>1</td>\n",
       "      <td>-1</td>\n",
       "      <td>0.000000</td>\n",
       "      <td>0.027113</td>\n",
       "      <td>0</td>\n",
       "      <td>0.0</td>\n",
       "      <td>-1</td>\n",
       "      <td>{\"x\": -8919964.005570533, \"y\": 4867758.9117359...</td>\n",
       "    </tr>\n",
       "    <tr>\n",
       "      <th>1</th>\n",
       "      <td>2</td>\n",
       "      <td>2</td>\n",
       "      <td>-1</td>\n",
       "      <td>0.000000</td>\n",
       "      <td>0.023014</td>\n",
       "      <td>0</td>\n",
       "      <td>0.0</td>\n",
       "      <td>-1</td>\n",
       "      <td>{\"x\": -8905258.700836735, \"y\": 4865826.0263644...</td>\n",
       "    </tr>\n",
       "    <tr>\n",
       "      <th>2</th>\n",
       "      <td>3</td>\n",
       "      <td>3</td>\n",
       "      <td>-1</td>\n",
       "      <td>0.000000</td>\n",
       "      <td>0.005891</td>\n",
       "      <td>0</td>\n",
       "      <td>0.0</td>\n",
       "      <td>-1</td>\n",
       "      <td>{\"x\": -8905314.36058214, \"y\": 4866727.02381835...</td>\n",
       "    </tr>\n",
       "    <tr>\n",
       "      <th>3</th>\n",
       "      <td>4</td>\n",
       "      <td>4</td>\n",
       "      <td>56</td>\n",
       "      <td>0.173037</td>\n",
       "      <td>0.826963</td>\n",
       "      <td>0</td>\n",
       "      <td>0.0</td>\n",
       "      <td>7</td>\n",
       "      <td>{\"x\": -8904590.783891981, \"y\": 4868224.0230725...</td>\n",
       "    </tr>\n",
       "    <tr>\n",
       "      <th>4</th>\n",
       "      <td>5</td>\n",
       "      <td>5</td>\n",
       "      <td>36</td>\n",
       "      <td>1.000000</td>\n",
       "      <td>0.000000</td>\n",
       "      <td>1</td>\n",
       "      <td>0.0</td>\n",
       "      <td>4</td>\n",
       "      <td>{\"x\": -8896241.822082484, \"y\": 4844052.5717511...</td>\n",
       "    </tr>\n",
       "    <tr>\n",
       "      <th>5</th>\n",
       "      <td>6</td>\n",
       "      <td>6</td>\n",
       "      <td>36</td>\n",
       "      <td>1.000000</td>\n",
       "      <td>0.000000</td>\n",
       "      <td>1</td>\n",
       "      <td>0.0</td>\n",
       "      <td>4</td>\n",
       "      <td>{\"x\": -8895774.28022115, \"y\": 4844531.07518083...</td>\n",
       "    </tr>\n",
       "    <tr>\n",
       "      <th>6</th>\n",
       "      <td>7</td>\n",
       "      <td>7</td>\n",
       "      <td>36</td>\n",
       "      <td>1.000000</td>\n",
       "      <td>0.000000</td>\n",
       "      <td>1</td>\n",
       "      <td>0.0</td>\n",
       "      <td>4</td>\n",
       "      <td>{\"x\": -8894527.501924265, \"y\": 4845430.1438411...</td>\n",
       "    </tr>\n",
       "    <tr>\n",
       "      <th>7</th>\n",
       "      <td>8</td>\n",
       "      <td>8</td>\n",
       "      <td>36</td>\n",
       "      <td>0.790149</td>\n",
       "      <td>0.209851</td>\n",
       "      <td>0</td>\n",
       "      <td>0.0</td>\n",
       "      <td>4</td>\n",
       "      <td>{\"x\": -8893759.397437794, \"y\": 4846532.3388230...</td>\n",
       "    </tr>\n",
       "    <tr>\n",
       "      <th>8</th>\n",
       "      <td>9</td>\n",
       "      <td>9</td>\n",
       "      <td>7</td>\n",
       "      <td>1.000000</td>\n",
       "      <td>0.000000</td>\n",
       "      <td>1</td>\n",
       "      <td>0.0</td>\n",
       "      <td>8</td>\n",
       "      <td>{\"x\": -8894338.258789917, \"y\": 4828101.1194576...</td>\n",
       "    </tr>\n",
       "    <tr>\n",
       "      <th>9</th>\n",
       "      <td>10</td>\n",
       "      <td>10</td>\n",
       "      <td>56</td>\n",
       "      <td>0.357273</td>\n",
       "      <td>0.642727</td>\n",
       "      <td>0</td>\n",
       "      <td>0.0</td>\n",
       "      <td>7</td>\n",
       "      <td>{\"x\": -8890542.26415387, \"y\": 4867729.84300147...</td>\n",
       "    </tr>\n",
       "    <tr>\n",
       "      <th>10</th>\n",
       "      <td>11</td>\n",
       "      <td>11</td>\n",
       "      <td>35</td>\n",
       "      <td>1.000000</td>\n",
       "      <td>0.000000</td>\n",
       "      <td>1</td>\n",
       "      <td>0.0</td>\n",
       "      <td>3</td>\n",
       "      <td>{\"x\": -8892056.209228657, \"y\": 4860596.0439408...</td>\n",
       "    </tr>\n",
       "    <tr>\n",
       "      <th>11</th>\n",
       "      <td>12</td>\n",
       "      <td>12</td>\n",
       "      <td>7</td>\n",
       "      <td>0.498830</td>\n",
       "      <td>0.501170</td>\n",
       "      <td>0</td>\n",
       "      <td>0.0</td>\n",
       "      <td>8</td>\n",
       "      <td>{\"x\": -8894672.217262294, \"y\": 4827768.1640337...</td>\n",
       "    </tr>\n",
       "    <tr>\n",
       "      <th>12</th>\n",
       "      <td>13</td>\n",
       "      <td>13</td>\n",
       "      <td>-1</td>\n",
       "      <td>0.000000</td>\n",
       "      <td>0.011129</td>\n",
       "      <td>0</td>\n",
       "      <td>0.0</td>\n",
       "      <td>-1</td>\n",
       "      <td>{\"x\": -8893403.175067253, \"y\": 4859869.8753424...</td>\n",
       "    </tr>\n",
       "    <tr>\n",
       "      <th>13</th>\n",
       "      <td>14</td>\n",
       "      <td>14</td>\n",
       "      <td>36</td>\n",
       "      <td>1.000000</td>\n",
       "      <td>0.000000</td>\n",
       "      <td>1</td>\n",
       "      <td>0.0</td>\n",
       "      <td>4</td>\n",
       "      <td>{\"x\": -8894393.918535315, \"y\": 4844038.0720063...</td>\n",
       "    </tr>\n",
       "    <tr>\n",
       "      <th>14</th>\n",
       "      <td>15</td>\n",
       "      <td>15</td>\n",
       "      <td>7</td>\n",
       "      <td>1.000000</td>\n",
       "      <td>0.000000</td>\n",
       "      <td>1</td>\n",
       "      <td>0.0</td>\n",
       "      <td>8</td>\n",
       "      <td>{\"x\": -8894449.578280712, \"y\": 4828144.5492451...</td>\n",
       "    </tr>\n",
       "    <tr>\n",
       "      <th>15</th>\n",
       "      <td>16</td>\n",
       "      <td>16</td>\n",
       "      <td>7</td>\n",
       "      <td>1.000000</td>\n",
       "      <td>0.000000</td>\n",
       "      <td>1</td>\n",
       "      <td>0.0</td>\n",
       "      <td>8</td>\n",
       "      <td>{\"x\": -8894349.390739, \"y\": 4828101.11945761, ...</td>\n",
       "    </tr>\n",
       "    <tr>\n",
       "      <th>16</th>\n",
       "      <td>17</td>\n",
       "      <td>17</td>\n",
       "      <td>35</td>\n",
       "      <td>1.000000</td>\n",
       "      <td>0.000000</td>\n",
       "      <td>1</td>\n",
       "      <td>0.0</td>\n",
       "      <td>3</td>\n",
       "      <td>{\"x\": -8889384.541449623, \"y\": 4858693.5948817...</td>\n",
       "    </tr>\n",
       "    <tr>\n",
       "      <th>17</th>\n",
       "      <td>18</td>\n",
       "      <td>18</td>\n",
       "      <td>35</td>\n",
       "      <td>1.000000</td>\n",
       "      <td>0.000000</td>\n",
       "      <td>1</td>\n",
       "      <td>0.0</td>\n",
       "      <td>3</td>\n",
       "      <td>{\"x\": -8892067.341177732, \"y\": 4860566.9961773...</td>\n",
       "    </tr>\n",
       "    <tr>\n",
       "      <th>18</th>\n",
       "      <td>19</td>\n",
       "      <td>19</td>\n",
       "      <td>7</td>\n",
       "      <td>1.000000</td>\n",
       "      <td>0.000000</td>\n",
       "      <td>1</td>\n",
       "      <td>0.0</td>\n",
       "      <td>8</td>\n",
       "      <td>{\"x\": -8894371.654637156, \"y\": 4828303.7934168...</td>\n",
       "    </tr>\n",
       "    <tr>\n",
       "      <th>19</th>\n",
       "      <td>20</td>\n",
       "      <td>20</td>\n",
       "      <td>56</td>\n",
       "      <td>0.344194</td>\n",
       "      <td>0.655806</td>\n",
       "      <td>0</td>\n",
       "      <td>0.0</td>\n",
       "      <td>7</td>\n",
       "      <td>{\"x\": -8890931.882371644, \"y\": 4867235.6875473...</td>\n",
       "    </tr>\n",
       "    <tr>\n",
       "      <th>20</th>\n",
       "      <td>21</td>\n",
       "      <td>21</td>\n",
       "      <td>36</td>\n",
       "      <td>0.838014</td>\n",
       "      <td>0.161986</td>\n",
       "      <td>0</td>\n",
       "      <td>0.0</td>\n",
       "      <td>4</td>\n",
       "      <td>{\"x\": -8893926.376673985, \"y\": 4846474.3255170...</td>\n",
       "    </tr>\n",
       "    <tr>\n",
       "      <th>21</th>\n",
       "      <td>22</td>\n",
       "      <td>22</td>\n",
       "      <td>36</td>\n",
       "      <td>0.508461</td>\n",
       "      <td>0.491539</td>\n",
       "      <td>0</td>\n",
       "      <td>0.0</td>\n",
       "      <td>4</td>\n",
       "      <td>{\"x\": -8891688.854909034, \"y\": 4848693.5754889...</td>\n",
       "    </tr>\n",
       "    <tr>\n",
       "      <th>22</th>\n",
       "      <td>23</td>\n",
       "      <td>23</td>\n",
       "      <td>56</td>\n",
       "      <td>0.561879</td>\n",
       "      <td>0.438121</td>\n",
       "      <td>0</td>\n",
       "      <td>0.0</td>\n",
       "      <td>7</td>\n",
       "      <td>{\"x\": -8894282.599044519, \"y\": 4867758.9117359...</td>\n",
       "    </tr>\n",
       "    <tr>\n",
       "      <th>23</th>\n",
       "      <td>24</td>\n",
       "      <td>24</td>\n",
       "      <td>36</td>\n",
       "      <td>1.000000</td>\n",
       "      <td>0.000000</td>\n",
       "      <td>1</td>\n",
       "      <td>0.0</td>\n",
       "      <td>4</td>\n",
       "      <td>{\"x\": -8895752.01632299, \"y\": 4844589.07715973...</td>\n",
       "    </tr>\n",
       "    <tr>\n",
       "      <th>24</th>\n",
       "      <td>25</td>\n",
       "      <td>25</td>\n",
       "      <td>56</td>\n",
       "      <td>0.343456</td>\n",
       "      <td>0.656544</td>\n",
       "      <td>0</td>\n",
       "      <td>0.0</td>\n",
       "      <td>7</td>\n",
       "      <td>{\"x\": -8890542.26415387, \"y\": 4867584.50060682...</td>\n",
       "    </tr>\n",
       "    <tr>\n",
       "      <th>25</th>\n",
       "      <td>26</td>\n",
       "      <td>26</td>\n",
       "      <td>7</td>\n",
       "      <td>1.000000</td>\n",
       "      <td>0.000000</td>\n",
       "      <td>1</td>\n",
       "      <td>0.0</td>\n",
       "      <td>8</td>\n",
       "      <td>{\"x\": -8894438.44633163, \"y\": 4828390.65494555...</td>\n",
       "    </tr>\n",
       "    <tr>\n",
       "      <th>26</th>\n",
       "      <td>27</td>\n",
       "      <td>27</td>\n",
       "      <td>-1</td>\n",
       "      <td>0.000000</td>\n",
       "      <td>0.255119</td>\n",
       "      <td>0</td>\n",
       "      <td>0.0</td>\n",
       "      <td>-1</td>\n",
       "      <td>{\"x\": -8878608.814740825, \"y\": 4851827.4774533...</td>\n",
       "    </tr>\n",
       "    <tr>\n",
       "      <th>27</th>\n",
       "      <td>28</td>\n",
       "      <td>28</td>\n",
       "      <td>40</td>\n",
       "      <td>1.000000</td>\n",
       "      <td>0.000000</td>\n",
       "      <td>1</td>\n",
       "      <td>0.0</td>\n",
       "      <td>3</td>\n",
       "      <td>{\"x\": -8878163.536777662, \"y\": 4840703.6915741...</td>\n",
       "    </tr>\n",
       "    <tr>\n",
       "      <th>28</th>\n",
       "      <td>29</td>\n",
       "      <td>29</td>\n",
       "      <td>40</td>\n",
       "      <td>1.000000</td>\n",
       "      <td>0.000000</td>\n",
       "      <td>1</td>\n",
       "      <td>0.0</td>\n",
       "      <td>3</td>\n",
       "      <td>{\"x\": -8878085.613134094, \"y\": 4840689.1967055...</td>\n",
       "    </tr>\n",
       "    <tr>\n",
       "      <th>29</th>\n",
       "      <td>30</td>\n",
       "      <td>30</td>\n",
       "      <td>63</td>\n",
       "      <td>1.000000</td>\n",
       "      <td>0.000000</td>\n",
       "      <td>1</td>\n",
       "      <td>0.0</td>\n",
       "      <td>2</td>\n",
       "      <td>{\"x\": -8878230.328472134, \"y\": 4852364.4023489...</td>\n",
       "    </tr>\n",
       "    <tr>\n",
       "      <th>...</th>\n",
       "      <td>...</td>\n",
       "      <td>...</td>\n",
       "      <td>...</td>\n",
       "      <td>...</td>\n",
       "      <td>...</td>\n",
       "      <td>...</td>\n",
       "      <td>...</td>\n",
       "      <td>...</td>\n",
       "      <td>...</td>\n",
       "    </tr>\n",
       "    <tr>\n",
       "      <th>4996</th>\n",
       "      <td>4997</td>\n",
       "      <td>4997</td>\n",
       "      <td>-1</td>\n",
       "      <td>0.000000</td>\n",
       "      <td>0.103226</td>\n",
       "      <td>0</td>\n",
       "      <td>0.0</td>\n",
       "      <td>-1</td>\n",
       "      <td>{\"x\": -8853773.436344847, \"y\": 4971437.4882425...</td>\n",
       "    </tr>\n",
       "    <tr>\n",
       "      <th>4997</th>\n",
       "      <td>4998</td>\n",
       "      <td>4998</td>\n",
       "      <td>-1</td>\n",
       "      <td>0.000000</td>\n",
       "      <td>0.175061</td>\n",
       "      <td>0</td>\n",
       "      <td>0.0</td>\n",
       "      <td>-1</td>\n",
       "      <td>{\"x\": -8853662.11685406, \"y\": 4984401.09493216...</td>\n",
       "    </tr>\n",
       "    <tr>\n",
       "      <th>4998</th>\n",
       "      <td>4999</td>\n",
       "      <td>4999</td>\n",
       "      <td>11</td>\n",
       "      <td>1.000000</td>\n",
       "      <td>0.000000</td>\n",
       "      <td>1</td>\n",
       "      <td>0.0</td>\n",
       "      <td>7</td>\n",
       "      <td>{\"x\": -8852081.380084794, \"y\": 4984915.8789673...</td>\n",
       "    </tr>\n",
       "    <tr>\n",
       "      <th>4999</th>\n",
       "      <td>5000</td>\n",
       "      <td>5000</td>\n",
       "      <td>11</td>\n",
       "      <td>0.191985</td>\n",
       "      <td>0.808015</td>\n",
       "      <td>0</td>\n",
       "      <td>0.0</td>\n",
       "      <td>7</td>\n",
       "      <td>{\"x\": -8853817.96414117, \"y\": 4984960.00457681...</td>\n",
       "    </tr>\n",
       "    <tr>\n",
       "      <th>5000</th>\n",
       "      <td>5001</td>\n",
       "      <td>5001</td>\n",
       "      <td>11</td>\n",
       "      <td>1.000000</td>\n",
       "      <td>0.000000</td>\n",
       "      <td>1</td>\n",
       "      <td>0.0</td>\n",
       "      <td>7</td>\n",
       "      <td>{\"x\": -8852148.171779273, \"y\": 4984812.9199878...</td>\n",
       "    </tr>\n",
       "    <tr>\n",
       "      <th>5001</th>\n",
       "      <td>5002</td>\n",
       "      <td>5002</td>\n",
       "      <td>11</td>\n",
       "      <td>0.336729</td>\n",
       "      <td>0.663271</td>\n",
       "      <td>0</td>\n",
       "      <td>0.0</td>\n",
       "      <td>7</td>\n",
       "      <td>{\"x\": -8852103.64398295, \"y\": 4985577.78406131...</td>\n",
       "    </tr>\n",
       "    <tr>\n",
       "      <th>5002</th>\n",
       "      <td>5003</td>\n",
       "      <td>5003</td>\n",
       "      <td>10</td>\n",
       "      <td>1.000000</td>\n",
       "      <td>0.000000</td>\n",
       "      <td>1</td>\n",
       "      <td>0.0</td>\n",
       "      <td>5</td>\n",
       "      <td>{\"x\": -8848886.51069902, \"y\": 4983724.56292264...</td>\n",
       "    </tr>\n",
       "    <tr>\n",
       "      <th>5003</th>\n",
       "      <td>5004</td>\n",
       "      <td>5004</td>\n",
       "      <td>10</td>\n",
       "      <td>1.000000</td>\n",
       "      <td>0.000000</td>\n",
       "      <td>1</td>\n",
       "      <td>0.0</td>\n",
       "      <td>5</td>\n",
       "      <td>{\"x\": -8848474.628583089, \"y\": 4986019.0790697...</td>\n",
       "    </tr>\n",
       "    <tr>\n",
       "      <th>5004</th>\n",
       "      <td>5005</td>\n",
       "      <td>5005</td>\n",
       "      <td>10</td>\n",
       "      <td>1.000000</td>\n",
       "      <td>0.000000</td>\n",
       "      <td>1</td>\n",
       "      <td>0.0</td>\n",
       "      <td>5</td>\n",
       "      <td>{\"x\": -8848519.156379411, \"y\": 4986033.7892470...</td>\n",
       "    </tr>\n",
       "    <tr>\n",
       "      <th>5005</th>\n",
       "      <td>5006</td>\n",
       "      <td>5006</td>\n",
       "      <td>10</td>\n",
       "      <td>1.000000</td>\n",
       "      <td>0.000000</td>\n",
       "      <td>1</td>\n",
       "      <td>0.0</td>\n",
       "      <td>5</td>\n",
       "      <td>{\"x\": -8849008.962138897, \"y\": 4984062.8230652...</td>\n",
       "    </tr>\n",
       "    <tr>\n",
       "      <th>5006</th>\n",
       "      <td>5007</td>\n",
       "      <td>5007</td>\n",
       "      <td>-1</td>\n",
       "      <td>0.000000</td>\n",
       "      <td>0.109885</td>\n",
       "      <td>0</td>\n",
       "      <td>0.0</td>\n",
       "      <td>-1</td>\n",
       "      <td>{\"x\": -8844578.446405323, \"y\": 4980945.3908082...</td>\n",
       "    </tr>\n",
       "    <tr>\n",
       "      <th>5007</th>\n",
       "      <td>5008</td>\n",
       "      <td>5008</td>\n",
       "      <td>2</td>\n",
       "      <td>1.000000</td>\n",
       "      <td>0.000000</td>\n",
       "      <td>1</td>\n",
       "      <td>0.0</td>\n",
       "      <td>6</td>\n",
       "      <td>{\"x\": -8830830.489292355, \"y\": 4982856.9057250...</td>\n",
       "    </tr>\n",
       "    <tr>\n",
       "      <th>5008</th>\n",
       "      <td>5009</td>\n",
       "      <td>5009</td>\n",
       "      <td>2</td>\n",
       "      <td>1.000000</td>\n",
       "      <td>0.000000</td>\n",
       "      <td>1</td>\n",
       "      <td>0.0</td>\n",
       "      <td>6</td>\n",
       "      <td>{\"x\": -8829249.752523094, \"y\": 4982783.3789990...</td>\n",
       "    </tr>\n",
       "    <tr>\n",
       "      <th>5009</th>\n",
       "      <td>5010</td>\n",
       "      <td>5010</td>\n",
       "      <td>3</td>\n",
       "      <td>1.000000</td>\n",
       "      <td>0.000000</td>\n",
       "      <td>1</td>\n",
       "      <td>0.0</td>\n",
       "      <td>1</td>\n",
       "      <td>{\"x\": -8832500.281654252, \"y\": 4967384.3794728...</td>\n",
       "    </tr>\n",
       "    <tr>\n",
       "      <th>5010</th>\n",
       "      <td>5011</td>\n",
       "      <td>5011</td>\n",
       "      <td>2</td>\n",
       "      <td>0.999882</td>\n",
       "      <td>0.000118</td>\n",
       "      <td>0</td>\n",
       "      <td>0.0</td>\n",
       "      <td>6</td>\n",
       "      <td>{\"x\": -8832544.809450574, \"y\": 4983092.1949702...</td>\n",
       "    </tr>\n",
       "    <tr>\n",
       "      <th>5011</th>\n",
       "      <td>5012</td>\n",
       "      <td>5012</td>\n",
       "      <td>3</td>\n",
       "      <td>1.000000</td>\n",
       "      <td>0.000000</td>\n",
       "      <td>1</td>\n",
       "      <td>0.0</td>\n",
       "      <td>1</td>\n",
       "      <td>{\"x\": -8832266.510723587, \"y\": 4967457.7904193...</td>\n",
       "    </tr>\n",
       "    <tr>\n",
       "      <th>5012</th>\n",
       "      <td>5013</td>\n",
       "      <td>5013</td>\n",
       "      <td>2</td>\n",
       "      <td>0.712546</td>\n",
       "      <td>0.287454</td>\n",
       "      <td>0</td>\n",
       "      <td>0.0</td>\n",
       "      <td>6</td>\n",
       "      <td>{\"x\": -8821056.638000706, \"y\": 4994687.2178030...</td>\n",
       "    </tr>\n",
       "    <tr>\n",
       "      <th>5013</th>\n",
       "      <td>5014</td>\n",
       "      <td>5014</td>\n",
       "      <td>2</td>\n",
       "      <td>1.000000</td>\n",
       "      <td>0.000000</td>\n",
       "      <td>1</td>\n",
       "      <td>0.0</td>\n",
       "      <td>6</td>\n",
       "      <td>{\"x\": -8825865.640002979, \"y\": 4977152.8767819...</td>\n",
       "    </tr>\n",
       "    <tr>\n",
       "      <th>5014</th>\n",
       "      <td>5015</td>\n",
       "      <td>5015</td>\n",
       "      <td>2</td>\n",
       "      <td>1.000000</td>\n",
       "      <td>0.000000</td>\n",
       "      <td>1</td>\n",
       "      <td>0.0</td>\n",
       "      <td>6</td>\n",
       "      <td>{\"x\": -8825865.640002979, \"y\": 4977152.8767819...</td>\n",
       "    </tr>\n",
       "    <tr>\n",
       "      <th>5015</th>\n",
       "      <td>5016</td>\n",
       "      <td>5016</td>\n",
       "      <td>3</td>\n",
       "      <td>1.000000</td>\n",
       "      <td>0.000000</td>\n",
       "      <td>1</td>\n",
       "      <td>0.0</td>\n",
       "      <td>1</td>\n",
       "      <td>{\"x\": -8832500.281654252, \"y\": 4967384.3794728...</td>\n",
       "    </tr>\n",
       "    <tr>\n",
       "      <th>5016</th>\n",
       "      <td>5017</td>\n",
       "      <td>5017</td>\n",
       "      <td>2</td>\n",
       "      <td>0.721675</td>\n",
       "      <td>0.278325</td>\n",
       "      <td>0</td>\n",
       "      <td>0.0</td>\n",
       "      <td>6</td>\n",
       "      <td>{\"x\": -8820889.658764523, \"y\": 4993892.1948145...</td>\n",
       "    </tr>\n",
       "    <tr>\n",
       "      <th>5017</th>\n",
       "      <td>5018</td>\n",
       "      <td>5018</td>\n",
       "      <td>2</td>\n",
       "      <td>0.721675</td>\n",
       "      <td>0.278325</td>\n",
       "      <td>0</td>\n",
       "      <td>0.0</td>\n",
       "      <td>6</td>\n",
       "      <td>{\"x\": -8820889.658764523, \"y\": 4993892.1948145...</td>\n",
       "    </tr>\n",
       "    <tr>\n",
       "      <th>5018</th>\n",
       "      <td>5019</td>\n",
       "      <td>5019</td>\n",
       "      <td>-1</td>\n",
       "      <td>0.000000</td>\n",
       "      <td>0.421425</td>\n",
       "      <td>0</td>\n",
       "      <td>0.0</td>\n",
       "      <td>-1</td>\n",
       "      <td>{\"x\": -8817895.16446218, \"y\": 5017062.80294019...</td>\n",
       "    </tr>\n",
       "    <tr>\n",
       "      <th>5019</th>\n",
       "      <td>5020</td>\n",
       "      <td>5020</td>\n",
       "      <td>2</td>\n",
       "      <td>0.786247</td>\n",
       "      <td>0.213753</td>\n",
       "      <td>0</td>\n",
       "      <td>0.0</td>\n",
       "      <td>6</td>\n",
       "      <td>{\"x\": -8820166.082074365, \"y\": 4979622.2535225...</td>\n",
       "    </tr>\n",
       "    <tr>\n",
       "      <th>5020</th>\n",
       "      <td>5021</td>\n",
       "      <td>5021</td>\n",
       "      <td>2</td>\n",
       "      <td>0.967406</td>\n",
       "      <td>0.032594</td>\n",
       "      <td>0</td>\n",
       "      <td>0.0</td>\n",
       "      <td>6</td>\n",
       "      <td>{\"x\": -8830785.96149604, \"y\": 4990447.84429529...</td>\n",
       "    </tr>\n",
       "    <tr>\n",
       "      <th>5021</th>\n",
       "      <td>5022</td>\n",
       "      <td>5022</td>\n",
       "      <td>3</td>\n",
       "      <td>1.000000</td>\n",
       "      <td>0.000000</td>\n",
       "      <td>1</td>\n",
       "      <td>0.0</td>\n",
       "      <td>1</td>\n",
       "      <td>{\"x\": -8832500.281654252, \"y\": 4967281.6050732...</td>\n",
       "    </tr>\n",
       "    <tr>\n",
       "      <th>5022</th>\n",
       "      <td>5023</td>\n",
       "      <td>5023</td>\n",
       "      <td>2</td>\n",
       "      <td>0.997590</td>\n",
       "      <td>0.002410</td>\n",
       "      <td>0</td>\n",
       "      <td>0.0</td>\n",
       "      <td>6</td>\n",
       "      <td>{\"x\": -8830875.017088676, \"y\": 4982842.2003355...</td>\n",
       "    </tr>\n",
       "    <tr>\n",
       "      <th>5023</th>\n",
       "      <td>5024</td>\n",
       "      <td>5024</td>\n",
       "      <td>2</td>\n",
       "      <td>0.761452</td>\n",
       "      <td>0.238548</td>\n",
       "      <td>0</td>\n",
       "      <td>0.0</td>\n",
       "      <td>6</td>\n",
       "      <td>{\"x\": -8821646.631301912, \"y\": 4994333.8662458...</td>\n",
       "    </tr>\n",
       "    <tr>\n",
       "      <th>5024</th>\n",
       "      <td>5025</td>\n",
       "      <td>5025</td>\n",
       "      <td>3</td>\n",
       "      <td>1.000000</td>\n",
       "      <td>0.000000</td>\n",
       "      <td>1</td>\n",
       "      <td>0.0</td>\n",
       "      <td>1</td>\n",
       "      <td>{\"x\": -8830062.384805882, \"y\": 4964184.1976627...</td>\n",
       "    </tr>\n",
       "    <tr>\n",
       "      <th>5025</th>\n",
       "      <td>5026</td>\n",
       "      <td>5026</td>\n",
       "      <td>2</td>\n",
       "      <td>1.000000</td>\n",
       "      <td>0.000000</td>\n",
       "      <td>1</td>\n",
       "      <td>0.0</td>\n",
       "      <td>6</td>\n",
       "      <td>{\"x\": -8822381.339941151, \"y\": 4982798.0842999...</td>\n",
       "    </tr>\n",
       "  </tbody>\n",
       "</table>\n",
       "<p>5026 rows × 9 columns</p>\n",
       "</div>"
      ],
      "text/plain": [
       "      OBJECTID  SOURCE_ID  CLUSTER_ID      PROB   OUTLIER  EXEMPLAR  \\\n",
       "0            1          1          -1  0.000000  0.027113         0   \n",
       "1            2          2          -1  0.000000  0.023014         0   \n",
       "2            3          3          -1  0.000000  0.005891         0   \n",
       "3            4          4          56  0.173037  0.826963         0   \n",
       "4            5          5          36  1.000000  0.000000         1   \n",
       "5            6          6          36  1.000000  0.000000         1   \n",
       "6            7          7          36  1.000000  0.000000         1   \n",
       "7            8          8          36  0.790149  0.209851         0   \n",
       "8            9          9           7  1.000000  0.000000         1   \n",
       "9           10         10          56  0.357273  0.642727         0   \n",
       "10          11         11          35  1.000000  0.000000         1   \n",
       "11          12         12           7  0.498830  0.501170         0   \n",
       "12          13         13          -1  0.000000  0.011129         0   \n",
       "13          14         14          36  1.000000  0.000000         1   \n",
       "14          15         15           7  1.000000  0.000000         1   \n",
       "15          16         16           7  1.000000  0.000000         1   \n",
       "16          17         17          35  1.000000  0.000000         1   \n",
       "17          18         18          35  1.000000  0.000000         1   \n",
       "18          19         19           7  1.000000  0.000000         1   \n",
       "19          20         20          56  0.344194  0.655806         0   \n",
       "20          21         21          36  0.838014  0.161986         0   \n",
       "21          22         22          36  0.508461  0.491539         0   \n",
       "22          23         23          56  0.561879  0.438121         0   \n",
       "23          24         24          36  1.000000  0.000000         1   \n",
       "24          25         25          56  0.343456  0.656544         0   \n",
       "25          26         26           7  1.000000  0.000000         1   \n",
       "26          27         27          -1  0.000000  0.255119         0   \n",
       "27          28         28          40  1.000000  0.000000         1   \n",
       "28          29         29          40  1.000000  0.000000         1   \n",
       "29          30         30          63  1.000000  0.000000         1   \n",
       "...        ...        ...         ...       ...       ...       ...   \n",
       "4996      4997       4997          -1  0.000000  0.103226         0   \n",
       "4997      4998       4998          -1  0.000000  0.175061         0   \n",
       "4998      4999       4999          11  1.000000  0.000000         1   \n",
       "4999      5000       5000          11  0.191985  0.808015         0   \n",
       "5000      5001       5001          11  1.000000  0.000000         1   \n",
       "5001      5002       5002          11  0.336729  0.663271         0   \n",
       "5002      5003       5003          10  1.000000  0.000000         1   \n",
       "5003      5004       5004          10  1.000000  0.000000         1   \n",
       "5004      5005       5005          10  1.000000  0.000000         1   \n",
       "5005      5006       5006          10  1.000000  0.000000         1   \n",
       "5006      5007       5007          -1  0.000000  0.109885         0   \n",
       "5007      5008       5008           2  1.000000  0.000000         1   \n",
       "5008      5009       5009           2  1.000000  0.000000         1   \n",
       "5009      5010       5010           3  1.000000  0.000000         1   \n",
       "5010      5011       5011           2  0.999882  0.000118         0   \n",
       "5011      5012       5012           3  1.000000  0.000000         1   \n",
       "5012      5013       5013           2  0.712546  0.287454         0   \n",
       "5013      5014       5014           2  1.000000  0.000000         1   \n",
       "5014      5015       5015           2  1.000000  0.000000         1   \n",
       "5015      5016       5016           3  1.000000  0.000000         1   \n",
       "5016      5017       5017           2  0.721675  0.278325         0   \n",
       "5017      5018       5018           2  0.721675  0.278325         0   \n",
       "5018      5019       5019          -1  0.000000  0.421425         0   \n",
       "5019      5020       5020           2  0.786247  0.213753         0   \n",
       "5020      5021       5021           2  0.967406  0.032594         0   \n",
       "5021      5022       5022           3  1.000000  0.000000         1   \n",
       "5022      5023       5023           2  0.997590  0.002410         0   \n",
       "5023      5024       5024           2  0.761452  0.238548         0   \n",
       "5024      5025       5025           3  1.000000  0.000000         1   \n",
       "5025      5026       5026           2  1.000000  0.000000         1   \n",
       "\n",
       "      STABILITY  COLOR_ID                                              SHAPE  \n",
       "0           0.0        -1  {\"x\": -8919964.005570533, \"y\": 4867758.9117359...  \n",
       "1           0.0        -1  {\"x\": -8905258.700836735, \"y\": 4865826.0263644...  \n",
       "2           0.0        -1  {\"x\": -8905314.36058214, \"y\": 4866727.02381835...  \n",
       "3           0.0         7  {\"x\": -8904590.783891981, \"y\": 4868224.0230725...  \n",
       "4           0.0         4  {\"x\": -8896241.822082484, \"y\": 4844052.5717511...  \n",
       "5           0.0         4  {\"x\": -8895774.28022115, \"y\": 4844531.07518083...  \n",
       "6           0.0         4  {\"x\": -8894527.501924265, \"y\": 4845430.1438411...  \n",
       "7           0.0         4  {\"x\": -8893759.397437794, \"y\": 4846532.3388230...  \n",
       "8           0.0         8  {\"x\": -8894338.258789917, \"y\": 4828101.1194576...  \n",
       "9           0.0         7  {\"x\": -8890542.26415387, \"y\": 4867729.84300147...  \n",
       "10          0.0         3  {\"x\": -8892056.209228657, \"y\": 4860596.0439408...  \n",
       "11          0.0         8  {\"x\": -8894672.217262294, \"y\": 4827768.1640337...  \n",
       "12          0.0        -1  {\"x\": -8893403.175067253, \"y\": 4859869.8753424...  \n",
       "13          0.0         4  {\"x\": -8894393.918535315, \"y\": 4844038.0720063...  \n",
       "14          0.0         8  {\"x\": -8894449.578280712, \"y\": 4828144.5492451...  \n",
       "15          0.0         8  {\"x\": -8894349.390739, \"y\": 4828101.11945761, ...  \n",
       "16          0.0         3  {\"x\": -8889384.541449623, \"y\": 4858693.5948817...  \n",
       "17          0.0         3  {\"x\": -8892067.341177732, \"y\": 4860566.9961773...  \n",
       "18          0.0         8  {\"x\": -8894371.654637156, \"y\": 4828303.7934168...  \n",
       "19          0.0         7  {\"x\": -8890931.882371644, \"y\": 4867235.6875473...  \n",
       "20          0.0         4  {\"x\": -8893926.376673985, \"y\": 4846474.3255170...  \n",
       "21          0.0         4  {\"x\": -8891688.854909034, \"y\": 4848693.5754889...  \n",
       "22          0.0         7  {\"x\": -8894282.599044519, \"y\": 4867758.9117359...  \n",
       "23          0.0         4  {\"x\": -8895752.01632299, \"y\": 4844589.07715973...  \n",
       "24          0.0         7  {\"x\": -8890542.26415387, \"y\": 4867584.50060682...  \n",
       "25          0.0         8  {\"x\": -8894438.44633163, \"y\": 4828390.65494555...  \n",
       "26          0.0        -1  {\"x\": -8878608.814740825, \"y\": 4851827.4774533...  \n",
       "27          0.0         3  {\"x\": -8878163.536777662, \"y\": 4840703.6915741...  \n",
       "28          0.0         3  {\"x\": -8878085.613134094, \"y\": 4840689.1967055...  \n",
       "29          0.0         2  {\"x\": -8878230.328472134, \"y\": 4852364.4023489...  \n",
       "...         ...       ...                                                ...  \n",
       "4996        0.0        -1  {\"x\": -8853773.436344847, \"y\": 4971437.4882425...  \n",
       "4997        0.0        -1  {\"x\": -8853662.11685406, \"y\": 4984401.09493216...  \n",
       "4998        0.0         7  {\"x\": -8852081.380084794, \"y\": 4984915.8789673...  \n",
       "4999        0.0         7  {\"x\": -8853817.96414117, \"y\": 4984960.00457681...  \n",
       "5000        0.0         7  {\"x\": -8852148.171779273, \"y\": 4984812.9199878...  \n",
       "5001        0.0         7  {\"x\": -8852103.64398295, \"y\": 4985577.78406131...  \n",
       "5002        0.0         5  {\"x\": -8848886.51069902, \"y\": 4983724.56292264...  \n",
       "5003        0.0         5  {\"x\": -8848474.628583089, \"y\": 4986019.0790697...  \n",
       "5004        0.0         5  {\"x\": -8848519.156379411, \"y\": 4986033.7892470...  \n",
       "5005        0.0         5  {\"x\": -8849008.962138897, \"y\": 4984062.8230652...  \n",
       "5006        0.0        -1  {\"x\": -8844578.446405323, \"y\": 4980945.3908082...  \n",
       "5007        0.0         6  {\"x\": -8830830.489292355, \"y\": 4982856.9057250...  \n",
       "5008        0.0         6  {\"x\": -8829249.752523094, \"y\": 4982783.3789990...  \n",
       "5009        0.0         1  {\"x\": -8832500.281654252, \"y\": 4967384.3794728...  \n",
       "5010        0.0         6  {\"x\": -8832544.809450574, \"y\": 4983092.1949702...  \n",
       "5011        0.0         1  {\"x\": -8832266.510723587, \"y\": 4967457.7904193...  \n",
       "5012        0.0         6  {\"x\": -8821056.638000706, \"y\": 4994687.2178030...  \n",
       "5013        0.0         6  {\"x\": -8825865.640002979, \"y\": 4977152.8767819...  \n",
       "5014        0.0         6  {\"x\": -8825865.640002979, \"y\": 4977152.8767819...  \n",
       "5015        0.0         1  {\"x\": -8832500.281654252, \"y\": 4967384.3794728...  \n",
       "5016        0.0         6  {\"x\": -8820889.658764523, \"y\": 4993892.1948145...  \n",
       "5017        0.0         6  {\"x\": -8820889.658764523, \"y\": 4993892.1948145...  \n",
       "5018        0.0        -1  {\"x\": -8817895.16446218, \"y\": 5017062.80294019...  \n",
       "5019        0.0         6  {\"x\": -8820166.082074365, \"y\": 4979622.2535225...  \n",
       "5020        0.0         6  {\"x\": -8830785.96149604, \"y\": 4990447.84429529...  \n",
       "5021        0.0         1  {\"x\": -8832500.281654252, \"y\": 4967281.6050732...  \n",
       "5022        0.0         6  {\"x\": -8830875.017088676, \"y\": 4982842.2003355...  \n",
       "5023        0.0         6  {\"x\": -8821646.631301912, \"y\": 4994333.8662458...  \n",
       "5024        0.0         1  {\"x\": -8830062.384805882, \"y\": 4964184.1976627...  \n",
       "5025        0.0         6  {\"x\": -8822381.339941151, \"y\": 4982798.0842999...  \n",
       "\n",
       "[5026 rows x 9 columns]"
      ]
     },
     "execution_count": 11,
     "metadata": {},
     "output_type": "execute_result"
    }
   ],
   "source": [
    "dbclusters_sedf = pd.DataFrame.spatial.from_featureclass(dbclusters_fc_path)\n",
    "dbclusters_sedf"
   ]
  },
  {
   "cell_type": "markdown",
   "metadata": {},
   "source": [
    "Create a map widget, centering it in Pittsburgh"
   ]
  },
  {
   "cell_type": "code",
   "execution_count": 12,
   "metadata": {},
   "outputs": [
    {
     "data": {
      "application/vnd.jupyter.widget-view+json": {
       "model_id": "f4d52bad82b549d1afaa83fb6e174f39",
       "version_major": 2,
       "version_minor": 0
      },
      "text/plain": [
       "MapView(layout=Layout(height='400px', width='100%'))"
      ]
     },
     "metadata": {},
     "output_type": "display_data"
    }
   ],
   "source": [
    "# Create map widget\n",
    "restaurants_map = gis.map(\"Pittsburgh\")\n",
    "restaurants_map"
   ]
  },
  {
   "cell_type": "markdown",
   "metadata": {},
   "source": [
    "Plot the spatially-enabled dataframe using its \".plot()\" method and setting the renderer to unique using the \"renderer_type\" parameter"
   ]
  },
  {
   "cell_type": "code",
   "execution_count": 13,
   "metadata": {},
   "outputs": [],
   "source": [
    "dbclusters_sedf.spatial.plot?"
   ]
  },
  {
   "cell_type": "code",
   "execution_count": 13,
   "metadata": {},
   "outputs": [
    {
     "data": {
      "text/plain": [
       "True"
      ]
     },
     "execution_count": 13,
     "metadata": {},
     "output_type": "execute_result"
    }
   ],
   "source": [
    "dbclusters_sedf.spatial.plot(kind='map',\n",
    "                             map_widget=restaurants_map,\n",
    "                             renderer_type='u', # specify the unique value renderer using its notation 'u'\n",
    "                             col='COLOR_ID'  # column to get unique values from\n",
    "                            )"
   ]
  },
  {
   "cell_type": "markdown",
   "metadata": {},
   "source": [
    "### 2. Publish the output to a Web GIS, create a map widget, and plot the published item on the map widget. "
   ]
  },
  {
   "cell_type": "markdown",
   "metadata": {},
   "source": [
    "Publish the density-based clustering output (in spatially-enabled dataframe format) to the GIS"
   ]
  },
  {
   "cell_type": "code",
   "execution_count": 15,
   "metadata": {},
   "outputs": [
    {
     "data": {
      "text/html": [
       "<div class=\"item_container\" style=\"height: auto; overflow: hidden; border: 1px solid #cfcfcf; border-radius: 2px; background: #f6fafa; line-height: 1.21429em; padding: 10px;\">\n",
       "                    <div class=\"item_left\" style=\"width: 210px; float: left;\">\n",
       "                       <a href='https://esrifederal.maps.arcgis.com/home/item.html?id=05c3193198414e62bed3cba04d5889c6' target='_blank'>\n",
       "                        <img src='http://static.arcgis.com/images/desktopapp.png' class=\"itemThumbnail\">\n",
       "                       </a>\n",
       "                    </div>\n",
       "\n",
       "                    <div class=\"item_right\"     style=\"float: none; width: auto; overflow: hidden;\">\n",
       "                        <a href='https://esrifederal.maps.arcgis.com/home/item.html?id=05c3193198414e62bed3cba04d5889c6' target='_blank'><b>Restaurant Clusters v2</b>\n",
       "                        </a>\n",
       "                        <br/><img src='https://esrifederal.maps.arcgis.com/home/js/jsapi/esri/css/images/item_type_icons/featureshosted16.png' style=\"vertical-align:middle;\">Feature Layer Collection by Anieto_esrifederal\n",
       "                        <br/>Last Modified: October 15, 2018\n",
       "                        <br/>0 comments, 0 views\n",
       "                    </div>\n",
       "                </div>\n",
       "                "
      ],
      "text/plain": [
       "<Item title:\"Restaurant Clusters v2\" type:Feature Layer Collection owner:Anieto_esrifederal>"
      ]
     },
     "execution_count": 15,
     "metadata": {},
     "output_type": "execute_result"
    }
   ],
   "source": [
    "dbclusters_item = gis.content.import_data(dbclusters_sedf, title=\"Restaurant Clusters v2\", tags=\"Restaurants; Clusters\")\n",
    "dbclusters_item"
   ]
  },
  {
   "cell_type": "markdown",
   "metadata": {},
   "source": [
    "We need to retrieve the layer from the published item"
   ]
  },
  {
   "cell_type": "code",
   "execution_count": 16,
   "metadata": {},
   "outputs": [
    {
     "data": {
      "text/plain": [
       "<FeatureLayer url:\"https://services.arcgis.com/hRUr1F8lE8Jq2uJo/arcgis/rest/services/a3c242/FeatureServer/0\">"
      ]
     },
     "execution_count": 16,
     "metadata": {},
     "output_type": "execute_result"
    }
   ],
   "source": [
    "clusters_layer = dbclusters_item.layers[0]\n",
    "clusters_layer"
   ]
  },
  {
   "cell_type": "markdown",
   "metadata": {},
   "source": [
    "Let's create another map widget"
   ]
  },
  {
   "cell_type": "code",
   "execution_count": 17,
   "metadata": {},
   "outputs": [
    {
     "data": {
      "application/vnd.jupyter.widget-view+json": {
       "model_id": "184dbc64fd49413388a488eb9886d7e5",
       "version_major": 2,
       "version_minor": 0
      },
      "text/plain": [
       "MapView(layout=Layout(height='400px', width='100%'))"
      ]
     },
     "metadata": {},
     "output_type": "display_data"
    }
   ],
   "source": [
    "# Create map widget\n",
    "restaurants_map2 = gis.map(\"Pittsburgh\")\n",
    "restaurants_map2"
   ]
  },
  {
   "cell_type": "markdown",
   "metadata": {},
   "source": [
    "Let's add the layer to the map widget"
   ]
  },
  {
   "cell_type": "code",
   "execution_count": 18,
   "metadata": {},
   "outputs": [],
   "source": [
    "restaurants_map2.add_layer(clusters_layer)"
   ]
  },
  {
   "cell_type": "markdown",
   "metadata": {},
   "source": [
    "# Using Symbology Layers (.lyr files) with Data on a Hosted Notebook"
   ]
  },
  {
   "cell_type": "markdown",
   "metadata": {},
   "source": [
    "So far, the only known way to interact with symbology layer files and data produced on a notebook is by leveraging an ArcGIS Pro (or ArcMap) installation on the system executing the notebook cells and publishing from ArcPy to a WebGIS that can then use the symbolized outputs. \n",
    "\n",
    "This is a painful workaround, and there may be other ways to work around this (but none that I've found yet). \n",
    "\n",
    "The way this process works is as follows:\n",
    "\n",
    "1. Run the needed tool in the notebook cell.\n",
    "2. Use an ArcGIS Pro Project or ArcMap MXD to load the output data from the notebook cell. \n",
    "3. Apply the .lyr file using ArcPy.\n",
    "4. Publish the layer as a service to a Web GIS.\n",
    "5. Retrieve the published item in the notebook.\n",
    "\n",
    "The following is such an example:"
   ]
  },
  {
   "cell_type": "markdown",
   "metadata": {},
   "source": [
    "## 1. Run the needed tool in the notebook cell."
   ]
  },
  {
   "cell_type": "code",
   "execution_count": 20,
   "metadata": {},
   "outputs": [],
   "source": [
    "hotspots_result_object = arcpy.stats.OptimizedHotSpotAnalysis(restaurants_fc, \n",
    "                                                              \"{0}//{1}_HotSpots\".format(file_geodatabase, \"Restaurants\"),  \n",
    "                                                              \"SALESVOL\")"
   ]
  },
  {
   "cell_type": "code",
   "execution_count": 21,
   "metadata": {},
   "outputs": [
    {
     "name": "stdout",
     "output_type": "stream",
     "text": [
      "Start Time: Monday, October 15, 2018 8:07:08 PM\n",
      "Running script OptimizedHotSpotAnalysis...\n",
      "\n",
      "************************** Initial Data Assessment ***************************\n",
      "Making sure there are enough weighted features for analysis....\n",
      "    - There are 5026 valid input features.\n",
      "\n",
      "Evaluating the Analysis Field values....\n",
      "    - SALESVOL Properties:\n",
      "        Min:           0.0000\n",
      "        Max:       14035.0000\n",
      "        Mean:        802.6454\n",
      "        Std. Dev.:  1130.5548\n",
      "Looking for locational outliers....\n",
      "    - There were 88 outlier locations; these will not be used to compute the optimal fixed distance band.\n",
      "\n",
      "***************************** Scale of Analysis ******************************\n",
      "Looking for an optimal scale of analysis by assessing the intensity of clustering at increasing distances....\n",
      "    - The optimal fixed distance band is based on peak clustering found at 5844.2536 Meters\n",
      "\n",
      "***************************** Hot Spot Analysis ******************************\n",
      "Finding statistically significant clusters of high and low SALESVOL values....\n",
      "    - There are 1282 output features statistically significant based on an FDR correction for multiple testing and spatial dependence.\n",
      "\n",
      "    - 5.4% of features had less than 8 neighbors based on the distance band of 5844.2536 Meters\n",
      "*********************************** Output ***********************************\n",
      "Creating output feature class: data\\\\retail.gdb\\Restaurants_HotSpots\n",
      "    - Red output features represent hot spots where high SALESVOL values cluster.\n",
      "    - Blue output features represent cold spots where low SALESVOL values cluster.\n",
      "\n",
      "\n",
      "\n",
      "Completed script Optimized Hot Spot Analysis...\n",
      "Succeeded at Monday, October 15, 2018 8:07:22 PM (Elapsed Time: 13.39 seconds)\n"
     ]
    }
   ],
   "source": [
    "for i in range(0, hotspots_result_object.messageCount):\n",
    "    print(hotspots_result_object.getMessage(i))"
   ]
  },
  {
   "cell_type": "code",
   "execution_count": 22,
   "metadata": {},
   "outputs": [
    {
     "data": {
      "text/plain": [
       "'data\\\\\\\\retail.gdb\\\\Restaurants_HotSpots'"
      ]
     },
     "execution_count": 22,
     "metadata": {},
     "output_type": "execute_result"
    }
   ],
   "source": [
    "hotspots_result_object.getOutput(0)"
   ]
  },
  {
   "cell_type": "markdown",
   "metadata": {},
   "source": [
    "## 2. Use an ArcGIS Pro Project or ArcMap MXD to load the output data from the notebook cell. "
   ]
  },
  {
   "cell_type": "markdown",
   "metadata": {},
   "source": [
    "We need to use an ArcGIS Pro project (or ArcMap MXD). Let's set the path to a project here."
   ]
  },
  {
   "cell_type": "code",
   "execution_count": 23,
   "metadata": {},
   "outputs": [],
   "source": [
    "pro_project_path = r\"data/pro_project_template/ProProjectTemplate/ProProjectTemplate.aprx\""
   ]
  },
  {
   "cell_type": "markdown",
   "metadata": {},
   "source": [
    "This symbology layer was previously saved using ArcGIS Pro..."
   ]
  },
  {
   "cell_type": "markdown",
   "metadata": {},
   "source": [
    "![layer](img/save_lyr.png \"save layer\")"
   ]
  },
  {
   "cell_type": "code",
   "execution_count": 24,
   "metadata": {},
   "outputs": [
    {
     "data": {
      "text/plain": [
       "<arcpy._mp.Layer at 0x23ca44ca3c8>"
      ]
     },
     "execution_count": 24,
     "metadata": {},
     "output_type": "execute_result"
    }
   ],
   "source": [
    "lyrfile = arcpy.mp.LayerFile(r\"symbology/optimizedhotspots_point_symbology.lyrx\")\n",
    "hotspots_symbology_lyr = lyrfile.listLayers()[0]\n",
    "hotspots_symbology_lyr"
   ]
  },
  {
   "cell_type": "markdown",
   "metadata": {},
   "source": [
    "Next, we need to use ArcPy's project > map > layer structure to set variables and add our optimized hot spots output as a layer"
   ]
  },
  {
   "cell_type": "code",
   "execution_count": 25,
   "metadata": {},
   "outputs": [],
   "source": [
    "aprx  = arcpy.mp.ArcGISProject(pro_project_path)\n",
    "map_obj = aprx.listMaps()[0]"
   ]
  },
  {
   "cell_type": "code",
   "execution_count": 26,
   "metadata": {},
   "outputs": [
    {
     "name": "stdout",
     "output_type": "stream",
     "text": [
      "World Topographic Map\n",
      "World Hillshade\n"
     ]
    }
   ],
   "source": [
    "for layer in map_obj.listLayers():\n",
    "    print(layer.name)"
   ]
  },
  {
   "cell_type": "markdown",
   "metadata": {},
   "source": [
    "Let's add the layer to the map"
   ]
  },
  {
   "cell_type": "code",
   "execution_count": 27,
   "metadata": {},
   "outputs": [
    {
     "data": {
      "text/plain": [
       "[<arcpy._mp.Layer at 0x23cb1f4a358>]"
      ]
     },
     "execution_count": 27,
     "metadata": {},
     "output_type": "execute_result"
    }
   ],
   "source": [
    "map_obj.addLayer(hotspots_symbology_lyr)"
   ]
  },
  {
   "cell_type": "code",
   "execution_count": 28,
   "metadata": {},
   "outputs": [
    {
     "name": "stdout",
     "output_type": "stream",
     "text": [
      "OHS_restaurants\n",
      "World Topographic Map\n",
      "World Hillshade\n"
     ]
    }
   ],
   "source": [
    "for layer in map_obj.listLayers():\n",
    "    print(layer.name)"
   ]
  },
  {
   "cell_type": "code",
   "execution_count": 29,
   "metadata": {},
   "outputs": [
    {
     "data": {
      "text/plain": [
       "<arcpy._mp.Layer at 0x23cb1f4abe0>"
      ]
     },
     "execution_count": 29,
     "metadata": {},
     "output_type": "execute_result"
    }
   ],
   "source": [
    "hotspots_map_layer = map_obj.listLayers(\"OHS_restaurants\")[0]\n",
    "hotspots_map_layer"
   ]
  },
  {
   "cell_type": "code",
   "execution_count": 30,
   "metadata": {},
   "outputs": [],
   "source": [
    "connprop = hotspots_map_layer.connectionProperties"
   ]
  },
  {
   "cell_type": "code",
   "execution_count": 34,
   "metadata": {},
   "outputs": [],
   "source": [
    "new_conn_properties = {'connection_info': {'database': file_geodatabase},\n",
    "                       'dataset': 'Restaurants_HotSpots',\n",
    "                       'workspace_factory': 'File Geodatabase'}"
   ]
  },
  {
   "cell_type": "code",
   "execution_count": 35,
   "metadata": {},
   "outputs": [],
   "source": [
    "hotspots_map_layer.updateConnectionProperties(hotspots_map_layer.connectionProperties, new_conn_properties)"
   ]
  },
  {
   "cell_type": "code",
   "execution_count": 36,
   "metadata": {},
   "outputs": [
    {
     "data": {
      "text/plain": [
       "{'connection_info': {'database': 'data//retail.gdb'},\n",
       " 'dataset': 'Restaurants_HotSpots',\n",
       " 'workspace_factory': 'File Geodatabase'}"
      ]
     },
     "execution_count": 36,
     "metadata": {},
     "output_type": "execute_result"
    }
   ],
   "source": [
    "hotspots_map_layer.connectionProperties"
   ]
  },
  {
   "cell_type": "markdown",
   "metadata": {},
   "source": [
    "## 3. Publish the layer as a service to a Web GIS."
   ]
  },
  {
   "cell_type": "markdown",
   "metadata": {},
   "source": [
    "Create a feature sharing draft object"
   ]
  },
  {
   "cell_type": "markdown",
   "metadata": {},
   "source": [
    "References:\n",
    "- http://pro.arcgis.com/en/pro-app/arcpy/sharing/featuresharingdraft-class.htm)\n",
    "- http://pro.arcgis.com/en/pro-app/tool-reference/server/stage-service.htm"
   ]
  },
  {
   "cell_type": "code",
   "execution_count": 37,
   "metadata": {},
   "outputs": [],
   "source": [
    "import os\n",
    "\n",
    "# Set output file names\n",
    "outdir = r\"data\\publishing\"\n",
    "service = \"OHS_restaurants\"\n",
    "sddraft_filename = service + \".sddraft\"\n",
    "sddraft_output_filename = os.path.join(outdir, sddraft_filename)"
   ]
  },
  {
   "cell_type": "markdown",
   "metadata": {},
   "source": [
    "Create SharingDraft and set service properties"
   ]
  },
  {
   "cell_type": "code",
   "execution_count": 38,
   "metadata": {},
   "outputs": [],
   "source": [
    "# Create SharingDraft and set service properties\n",
    "feature_sharingdraft_obj = map_obj.getWebLayerSharingDraft(server_type='MY_HOSTED_SERVICES', \n",
    "                                                           service_type='FEATURE', \n",
    "                                                           service_name=service)\n",
    "\n",
    "feature_sharingdraft_obj.description = \"Optimized Hot Spots results for restaurants in Pittsburgh, PA\"\n",
    "feature_sharingdraft_obj.tags = \"Optimized Hot Spots\"\n",
    "feature_sharingdraft_obj.summary = \"My Summary\""
   ]
  },
  {
   "cell_type": "markdown",
   "metadata": {},
   "source": [
    "Create Service Definition Draft File"
   ]
  },
  {
   "cell_type": "code",
   "execution_count": 39,
   "metadata": {},
   "outputs": [],
   "source": [
    "feature_sharingdraft_obj.exportToSDDraft(sddraft_output_filename)"
   ]
  },
  {
   "cell_type": "markdown",
   "metadata": {},
   "source": [
    "Stage Service"
   ]
  },
  {
   "cell_type": "code",
   "execution_count": null,
   "metadata": {},
   "outputs": [],
   "source": [
    "sd_filename = service + \".sd\"\n",
    "sd_output_filename = os.path.join(outdir, sd_filename)\n",
    "arcpy.StageService_server(sddraft_output_filename, sd_output_filename)"
   ]
  },
  {
   "cell_type": "code",
   "execution_count": null,
   "metadata": {},
   "outputs": [],
   "source": [
    "# Share to portal\n",
    "print(\"Uploading Service Definition...\")\n",
    "arcpy.UploadServiceDefinition_server(sd_output_filename, \"My Hosted Services\")"
   ]
  },
  {
   "cell_type": "markdown",
   "metadata": {},
   "source": [
    "## 4. Retrieve the published item in the notebook."
   ]
  },
  {
   "cell_type": "code",
   "execution_count": 48,
   "metadata": {},
   "outputs": [
    {
     "data": {
      "application/vnd.jupyter.widget-view+json": {
       "model_id": "4460903cd0c14d0fa81a5922ea258032",
       "version_major": 2,
       "version_minor": 0
      },
      "text/plain": [
       "MapView(layout=Layout(height='400px', width='100%'))"
      ]
     },
     "metadata": {},
     "output_type": "display_data"
    }
   ],
   "source": [
    "hotspots_map = gis.map(\"Pittsburgh\")\n",
    "hotspots_map"
   ]
  },
  {
   "cell_type": "code",
   "execution_count": 49,
   "metadata": {},
   "outputs": [
    {
     "data": {
      "text/html": [
       "<div class=\"item_container\" style=\"height: auto; overflow: hidden; border: 1px solid #cfcfcf; border-radius: 2px; background: #f6fafa; line-height: 1.21429em; padding: 10px;\">\n",
       "                    <div class=\"item_left\" style=\"width: 210px; float: left;\">\n",
       "                       <a href='https://esrifederal.maps.arcgis.com/home/item.html?id=69dc1f8ad8d3492eb64645d4ce4dbbbd' target='_blank'>\n",
       "                        <img src='data:image/png;base64,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' width='200' height='133' class=\"itemThumbnail\">\n",
       "                       </a>\n",
       "                    </div>\n",
       "\n",
       "                    <div class=\"item_right\"     style=\"float: none; width: auto; overflow: hidden;\">\n",
       "                        <a href='https://esrifederal.maps.arcgis.com/home/item.html?id=69dc1f8ad8d3492eb64645d4ce4dbbbd' target='_blank'><b>OHS_restaurants</b>\n",
       "                        </a>\n",
       "                        <br/>Infogroup Business Locations collects the locations of over 13 million private and public companies in United States. It includes address information,...<img src='https://esrifederal.maps.arcgis.com/home/js/jsapi/esri/css/images/item_type_icons/featureshosted16.png' style=\"vertical-align:middle;\">Feature Layer Collection by albe9057@esri.com_esrifederal\n",
       "                        <br/>Last Modified: October 15, 2018\n",
       "                        <br/>0 comments, 0 views\n",
       "                    </div>\n",
       "                </div>\n",
       "                "
      ],
      "text/plain": [
       "<Item title:\"OHS_restaurants\" type:Feature Layer Collection owner:albe9057@esri.com_esrifederal>"
      ]
     },
     "execution_count": 49,
     "metadata": {},
     "output_type": "execute_result"
    }
   ],
   "source": [
    "hotspots_published_item = gis.content.search(\"OHS_restaurants\", item_type=\"Feature Service\")[1]\n",
    "hotspots_published_item"
   ]
  },
  {
   "cell_type": "code",
   "execution_count": 50,
   "metadata": {},
   "outputs": [],
   "source": [
    "hotspots_map.add_layer(hotspots_published_item)"
   ]
  },
  {
   "cell_type": "markdown",
   "metadata": {},
   "source": [
    "## Appendix: Renderer Testing (In Progress)"
   ]
  },
  {
   "cell_type": "code",
   "execution_count": 53,
   "metadata": {},
   "outputs": [],
   "source": [
    "renderer = hotspots_map_layer.symbology.renderer"
   ]
  },
  {
   "cell_type": "code",
   "execution_count": 54,
   "metadata": {},
   "outputs": [
    {
     "data": {
      "text/plain": [
       "<graduated_colors_renderer object>"
      ]
     },
     "execution_count": 54,
     "metadata": {},
     "output_type": "execute_result"
    }
   ],
   "source": [
    "renderer"
   ]
  },
  {
   "cell_type": "code",
   "execution_count": 55,
   "metadata": {},
   "outputs": [
    {
     "data": {
      "application/vnd.jupyter.widget-view+json": {
       "model_id": "2750b6e934ed4a0a81f979a7442a88b6",
       "version_major": 2,
       "version_minor": 0
      },
      "text/plain": [
       "MapView(layout=Layout(height='400px', width='100%'))"
      ]
     },
     "metadata": {},
     "output_type": "display_data"
    }
   ],
   "source": [
    "hot_spots_map = gis.map(\"Pittsburgh\")\n",
    "hot_spots_map"
   ]
  },
  {
   "cell_type": "code",
   "execution_count": 58,
   "metadata": {},
   "outputs": [
    {
     "data": {
      "text/html": [
       "<div class=\"item_container\" style=\"height: auto; overflow: hidden; border: 1px solid #cfcfcf; border-radius: 2px; background: #f6fafa; line-height: 1.21429em; padding: 10px;\">\n",
       "                    <div class=\"item_left\" style=\"width: 210px; float: left;\">\n",
       "                       <a href='https://esrifederal.maps.arcgis.com/home/item.html?id=9bd86c93dc6444508a044ece73012165' target='_blank'>\n",
       "                        <img src='data:image/png;base64,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' width='200' height='133' class=\"itemThumbnail\">\n",
       "                       </a>\n",
       "                    </div>\n",
       "\n",
       "                    <div class=\"item_right\"     style=\"float: none; width: auto; overflow: hidden;\">\n",
       "                        <a href='https://esrifederal.maps.arcgis.com/home/item.html?id=9bd86c93dc6444508a044ece73012165' target='_blank'><b>OHS_restaurants_notsymbolized</b>\n",
       "                        </a>\n",
       "                        <br/>Infogroup Business Locations collects the locations of over 13 million private and public companies in United States. It includes address information,...<img src='https://esrifederal.maps.arcgis.com/home/js/jsapi/esri/css/images/item_type_icons/featureshosted16.png' style=\"vertical-align:middle;\">Feature Layer Collection by albe9057@esri.com_esrifederal\n",
       "                        <br/>Last Modified: October 15, 2018\n",
       "                        <br/>0 comments, 0 views\n",
       "                    </div>\n",
       "                </div>\n",
       "                "
      ],
      "text/plain": [
       "<Item title:\"OHS_restaurants_notsymbolized\" type:Feature Layer Collection owner:albe9057@esri.com_esrifederal>"
      ]
     },
     "execution_count": 58,
     "metadata": {},
     "output_type": "execute_result"
    }
   ],
   "source": [
    "hot_spots_item = gis.content.search(\"OHS_restaurants_notsymbolized\", item_type=\"Feature Service\")[0]\n",
    "hot_spots_item"
   ]
  },
  {
   "cell_type": "code",
   "execution_count": 59,
   "metadata": {},
   "outputs": [],
   "source": [
    "hot_spots_map.add_layer(hot_spots_item)"
   ]
  },
  {
   "cell_type": "code",
   "execution_count": null,
   "metadata": {},
   "outputs": [],
   "source": []
  }
 ],
 "metadata": {
  "kernelspec": {
   "display_name": "Python 3",
   "language": "python",
   "name": "python3"
  },
  "language_info": {
   "codemirror_mode": {
    "name": "ipython",
    "version": 3
   },
   "file_extension": ".py",
   "mimetype": "text/x-python",
   "name": "python",
   "nbconvert_exporter": "python",
   "pygments_lexer": "ipython3",
   "version": "3.6.6"
  }
 },
 "nbformat": 4,
 "nbformat_minor": 2
}
